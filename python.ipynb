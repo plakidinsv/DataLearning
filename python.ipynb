{
 "cells": [
  {
   "cell_type": "code",
   "execution_count": 1,
   "metadata": {},
   "outputs": [
    {
     "name": "stdout",
     "output_type": "stream",
     "text": [
      "2306492164592 2306492164592 2306573712720\n"
     ]
    }
   ],
   "source": [
    "a = b= c = 7\n",
    "c='helllo'\n",
    "c = 6.5\n",
    "print(id(a), id(b), id(c))\n",
    "# d = input()"
   ]
  },
  {
   "cell_type": "code",
   "execution_count": 2,
   "metadata": {},
   "outputs": [
    {
     "name": "stdout",
     "output_type": "stream",
     "text": [
      "7 <--> 7 <--> 6\n",
      "Value of a = 7, of b = 7, of c = 6.5, of d = 554\n"
     ]
    }
   ],
   "source": [
    "print(a, b, int(c), sep = ' <--> ')\n",
    "print(f'Value of a = {a}, of b = {b}, of c = {c}, of d = {input()}') # f-strings"
   ]
  },
  {
   "cell_type": "code",
   "execution_count": 3,
   "metadata": {},
   "outputs": [
    {
     "name": "stdout",
     "output_type": "stream",
     "text": [
      "<class 'int'> <class 'float'>\n"
     ]
    }
   ],
   "source": [
    "print(type(a), type(c))"
   ]
  },
  {
   "cell_type": "code",
   "execution_count": 4,
   "metadata": {},
   "outputs": [
    {
     "name": "stdout",
     "output_type": "stream",
     "text": [
      "<class 'float'>\n"
     ]
    }
   ],
   "source": [
    "c = 5+6.5\n",
    "print(type(c))"
   ]
  },
  {
   "cell_type": "code",
   "execution_count": 5,
   "metadata": {},
   "outputs": [
    {
     "name": "stdout",
     "output_type": "stream",
     "text": [
      "100\n"
     ]
    }
   ],
   "source": [
    "print(round(100.5)) # values near 0, 10, 20 etc rounds to floor"
   ]
  },
  {
   "cell_type": "code",
   "execution_count": 6,
   "metadata": {},
   "outputs": [
    {
     "data": {
      "text/plain": [
       "'eldorado'"
      ]
     },
     "execution_count": 6,
     "metadata": {},
     "output_type": "execute_result"
    }
   ],
   "source": [
    "# string is an immutable object\n",
    "\n",
    "s = 'eldorado'\n",
    "s[3:6]  # last simbol in slice do not includes in result\n",
    "s[2:]\n",
    "s[:-3]\n",
    "s[:]"
   ]
  },
  {
   "cell_type": "code",
   "execution_count": 7,
   "metadata": {},
   "outputs": [
    {
     "data": {
      "text/plain": [
       "'oaol'"
      ]
     },
     "execution_count": 7,
     "metadata": {},
     "output_type": "execute_result"
    }
   ],
   "source": [
    "s[2:6:2] # slice with step = 2 string[start:stop:step]\n",
    "s[::-2] # from end to start of string with step =2"
   ]
  },
  {
   "cell_type": "code",
   "execution_count": 8,
   "metadata": {},
   "outputs": [
    {
     "data": {
      "text/plain": [
       "'ELDORADO'"
      ]
     },
     "execution_count": 8,
     "metadata": {},
     "output_type": "execute_result"
    }
   ],
   "source": [
    "s.upper() # string is not changed, we need to assign new string to another variable\n",
    "k = s.upper()\n",
    "k"
   ]
  },
  {
   "cell_type": "code",
   "execution_count": 9,
   "metadata": {},
   "outputs": [
    {
     "data": {
      "text/plain": [
       "1"
      ]
     },
     "execution_count": 9,
     "metadata": {},
     "output_type": "execute_result"
    }
   ],
   "source": [
    "s.count('do', 3, 8)"
   ]
  },
  {
   "cell_type": "code",
   "execution_count": 10,
   "metadata": {},
   "outputs": [
    {
     "data": {
      "text/plain": [
       "4"
      ]
     },
     "execution_count": 10,
     "metadata": {},
     "output_type": "execute_result"
    }
   ],
   "source": [
    "s.find('ra', 2)"
   ]
  },
  {
   "cell_type": "code",
   "execution_count": 11,
   "metadata": {},
   "outputs": [
    {
     "ename": "ValueError",
     "evalue": "substring not found",
     "output_type": "error",
     "traceback": [
      "\u001b[1;31m---------------------------------------------------------------------------\u001b[0m",
      "\u001b[1;31mValueError\u001b[0m                                Traceback (most recent call last)",
      "\u001b[1;32mc:\\Users\\plaki\\AppData\\Local\\Temp\\Temp1_python_summarize-main.zip\\python_summarize-main\\python.ipynb Cell 11\u001b[0m in \u001b[0;36m<cell line: 1>\u001b[1;34m()\u001b[0m\n\u001b[1;32m----> <a href='vscode-notebook-cell:/c%3A/Users/plaki/AppData/Local/Temp/Temp1_python_summarize-main.zip/python_summarize-main/python.ipynb#X13sZmlsZQ%3D%3D?line=0'>1</a>\u001b[0m s\u001b[39m.\u001b[39;49mindex(\u001b[39m'\u001b[39;49m\u001b[39mkkk\u001b[39;49m\u001b[39m'\u001b[39;49m)\n",
      "\u001b[1;31mValueError\u001b[0m: substring not found"
     ]
    }
   ],
   "source": [
    "s.index('kkk')"
   ]
  },
  {
   "cell_type": "code",
   "execution_count": null,
   "metadata": {},
   "outputs": [
    {
     "data": {
      "text/plain": [
       "'eldarado'"
      ]
     },
     "execution_count": 16,
     "metadata": {},
     "output_type": "execute_result"
    }
   ],
   "source": [
    "l = s.replace('ra', 'RA')\n",
    "l\n",
    "m = s.replace('o', 'a', 1)\n",
    "m"
   ]
  },
  {
   "cell_type": "code",
   "execution_count": null,
   "metadata": {},
   "outputs": [
    {
     "data": {
      "text/plain": [
       "'_______eldorado'"
      ]
     },
     "execution_count": 19,
     "metadata": {},
     "output_type": "execute_result"
    }
   ],
   "source": [
    "s.isalpha()\n",
    "s.isdigit()\n",
    "j=s.rjust(15, '_')\n",
    "j"
   ]
  },
  {
   "cell_type": "code",
   "execution_count": null,
   "metadata": {},
   "outputs": [
    {
     "data": {
      "text/plain": [
       "['eld', 'rad', '']"
      ]
     },
     "execution_count": 20,
     "metadata": {},
     "output_type": "execute_result"
    }
   ],
   "source": [
    "y=s.split('o')\n",
    "y"
   ]
  },
  {
   "cell_type": "code",
   "execution_count": null,
   "metadata": {},
   "outputs": [
    {
     "data": {
      "text/plain": [
       "['eld', 'r', 'd', '']"
      ]
     },
     "execution_count": 24,
     "metadata": {},
     "output_type": "execute_result"
    }
   ],
   "source": [
    "y=s.replace('o', 'a').split('a')\n",
    "y"
   ]
  },
  {
   "cell_type": "code",
   "execution_count": null,
   "metadata": {},
   "outputs": [
    {
     "data": {
      "text/plain": [
       "'eldorodo'"
      ]
     },
     "execution_count": 25,
     "metadata": {},
     "output_type": "execute_result"
    }
   ],
   "source": [
    "p= 'o'.join(y)\n",
    "p"
   ]
  },
  {
   "cell_type": "code",
   "execution_count": null,
   "metadata": {},
   "outputs": [
    {
     "data": {
      "text/plain": [
       "'Mark, Von, Sudov'"
      ]
     },
     "execution_count": 26,
     "metadata": {},
     "output_type": "execute_result"
    }
   ],
   "source": [
    "fio='Mark Von Sudov'\n",
    "fio_splt = ', '.join(fio.split())\n",
    "fio_splt"
   ]
  },
  {
   "cell_type": "code",
   "execution_count": null,
   "metadata": {},
   "outputs": [],
   "source": [
    "string.strip() # deleting simbols left and right side of string\n",
    "string.rstrip()\n",
    "string.lstrip()"
   ]
  },
  {
   "cell_type": "code",
   "execution_count": null,
   "metadata": {},
   "outputs": [],
   "source": [
    "# экранирование и raw-строки"
   ]
  },
  {
   "cell_type": "code",
   "execution_count": 12,
   "metadata": {},
   "outputs": [
    {
     "name": "stdout",
     "output_type": "stream",
     "text": [
      "4\n"
     ]
    }
   ],
   "source": [
    "#if-else operator\n",
    "x = 4\n",
    "if x < 0:\n",
    "    x = -x\n",
    "print(x)    "
   ]
  },
  {
   "cell_type": "code",
   "execution_count": 13,
   "metadata": {},
   "outputs": [
    {
     "name": "stdout",
     "output_type": "stream",
     "text": [
      "546.0 45.0\n"
     ]
    }
   ],
   "source": [
    "a = float(input('a: '))\n",
    "b = float(input('b: '))\n",
    "\n",
    "if a < b:\n",
    "    a, b = b, a\n",
    "\n",
    "print(a, b)    "
   ]
  },
  {
   "cell_type": "code",
   "execution_count": 14,
   "metadata": {},
   "outputs": [
    {
     "name": "stdout",
     "output_type": "stream",
     "text": [
      "Student must stay at current grade\n"
     ]
    }
   ],
   "source": [
    "marks = [5, 3, 4, 6, 5]\n",
    "\n",
    "if 2 in marks:\n",
    "    print('Student Fired')\n",
    "elif 3 in marks:\n",
    "    print('Student must stay at current grade')\n",
    "else:\n",
    "    print('Student moved to the next grade')"
   ]
  },
  {
   "cell_type": "code",
   "execution_count": 15,
   "metadata": {},
   "outputs": [
    {
     "name": "stdout",
     "output_type": "stream",
     "text": [
      "12\n"
     ]
    }
   ],
   "source": [
    "# ternary operator\n",
    "# ternary operator RETURNS result itself, but if-operator doesn't - THE DIFFERENCE\n",
    "a, b = 12, 5\n",
    "\n",
    "res = a if a > b else b\n",
    "print(res)"
   ]
  },
  {
   "cell_type": "code",
   "execution_count": 16,
   "metadata": {},
   "outputs": [
    {
     "name": "stdout",
     "output_type": "stream",
     "text": [
      "45150\n"
     ]
    }
   ],
   "source": [
    "# while - perator\n",
    "# break/continue - stop/pass_1_iteration\n",
    "# else\n",
    "\n",
    "s = 0\n",
    "i = 1\n",
    "N = 1000\n",
    "\n",
    "while i <= N and i <= 300:\n",
    "    s+= i\n",
    "    i += 1\n",
    "\n",
    "print(s)    "
   ]
  },
  {
   "cell_type": "code",
   "execution_count": 17,
   "metadata": {},
   "outputs": [
    {
     "name": "stdout",
     "output_type": "stream",
     "text": [
      "Value of flg is \"True\", value of d[i] is \"-1\"\n"
     ]
    }
   ],
   "source": [
    "d = [1, 5, 8, 6, 5, -1, 4, -6]\n",
    "\n",
    "flg = False\n",
    "i = 0\n",
    "while i < len(d):\n",
    "    flg = d[i] < 0\n",
    "    if flg == True:\n",
    "        break\n",
    "    i += 1\n",
    "print(f'Value of flg is \"{flg}\", value of d[i] is \"{d[i]}\"')   "
   ]
  },
  {
   "cell_type": "code",
   "execution_count": 18,
   "metadata": {},
   "outputs": [
    {
     "name": "stdout",
     "output_type": "stream",
     "text": [
      "[0, 1, 2, 3, 4]\n"
     ]
    }
   ],
   "source": [
    "# for-cycle\n",
    "# range -function^\n",
    "# range(start, stop, step)\n",
    "print(list(range(5)))"
   ]
  },
  {
   "cell_type": "code",
   "execution_count": 19,
   "metadata": {},
   "outputs": [
    {
     "name": "stdout",
     "output_type": "stream",
     "text": [
      "2989\n"
     ]
    }
   ],
   "source": [
    "s = 0\n",
    "for i in range(37, 86):\n",
    "    s += i\n",
    "print(s)    "
   ]
  },
  {
   "cell_type": "code",
   "execution_count": 20,
   "metadata": {},
   "outputs": [
    {
     "name": "stdout",
     "output_type": "stream",
     "text": [
      "Factrorial n=42 is \"1405006117752879898543142606244511569936384000000000\"\n"
     ]
    }
   ],
   "source": [
    "n = int(input('Input natural number from 1 to 100: '))\n",
    "\n",
    "if n < 1 or n > 100:\n",
    "    print('Wrong number')\n",
    "else:\n",
    "    p = 1\n",
    "    for i in range(1, n+1):\n",
    "        p *=i\n",
    "print(f'Factrorial n={n} is \"{p}\"')"
   ]
  },
  {
   "cell_type": "code",
   "execution_count": 21,
   "metadata": {},
   "outputs": [
    {
     "name": "stdout",
     "output_type": "stream",
     "text": [
      "*\n",
      "**\n",
      "***\n",
      "****\n",
      "*****\n",
      "******\n"
     ]
    }
   ],
   "source": [
    "for i in range(1, 7):\n",
    "    print('*' * i)"
   ]
  },
  {
   "cell_type": "code",
   "execution_count": 22,
   "metadata": {},
   "outputs": [
    {
     "name": "stdout",
     "output_type": "stream",
     "text": [
      "[4, -543, 5, 190, 0, 0, -10]\n"
     ]
    }
   ],
   "source": [
    "# enumerate - returns undex and value\n",
    "\n",
    "nmbrs = [4, -543, 5, 190, 43, -98, -10]\n",
    "\n",
    "for i, j in enumerate(nmbrs):\n",
    "    if 10 < abs(j) <= 99: # if 10 < abs(nbmrs[i]) <= 99:\n",
    "        nmbrs[i] = 0\n",
    "print(nmbrs)       "
   ]
  },
  {
   "cell_type": "code",
   "execution_count": 23,
   "metadata": {},
   "outputs": [],
   "source": [
    "# iterable object iter(object)\n",
    "\n",
    "nmbrs = [4, -543, 5, 190, 43, -98, -10]\n",
    "\n",
    "itr = iter(nmbrs)"
   ]
  },
  {
   "cell_type": "code",
   "execution_count": null,
   "metadata": {},
   "outputs": [],
   "source": [
    "list # mutable \n",
    "# min/max/sum/len(list)\n",
    "# sorted(list) - do not changes the original list, sortin by ascending\n",
    "# lst_sorted = sorted(list, reverst = True) - descending sorted list assigned to var 'lst_sorted'\n",
    "del list[0]\n",
    "lst = name_list # НЕ слздается новый список, создается переменная, ссылающаяся на тот же объект, дска\n",
    "# lля созданиy копии спинеобходиvj делать так:\n",
    "lst = list(name_list)\n",
    "\n",
    "# slices AS in strings + remember list is mutable\n",
    "lst[2:3] = ['boba', 'biba'] # можно измегять значения в списках\n",
    "lst[2:3] = 'boba', 'biba'"
   ]
  },
  {
   "cell_type": "code",
   "execution_count": null,
   "metadata": {},
   "outputs": [],
   "source": [
    "# list methods\n",
    "lst.append() # СПИСОК ИЗМЕНЯЯЕТСЯ, присваивание другой переменной\n",
    "                # не требуется. Передается только 1 элемент\n",
    "lst.insert(index, value) # вставка value  в место с индексом index\n",
    "lst.remove()\n",
    "lst.pop() # если не указан индекс удаляемого элемента, удаляет последний элемент\n",
    "        # удаляет последний элемент. ТАкже возвращает значение удаляемго элемента\n",
    "lst.clear()\n",
    "c = lst.copy() # создает копию\n",
    "lst.count(value) #подсчитывает количество значений в списке\n",
    "lst.index(value, index_start)\n",
    "lst.reverse()\n",
    "lst.sort(reverse=True/False) # Changes current lst. Assigning to another var is not needed!!!\n",
    "\n",
    "# многомерные/вложенные списки lst[i][j]\n"
   ]
  },
  {
   "cell_type": "code",
   "execution_count": null,
   "metadata": {},
   "outputs": [
    {
     "name": "stdout",
     "output_type": "stream",
     "text": [
      "[[0], [1, 1], [2, 2, 2], [3, 4, 4, 3], [4, 7, 8, 7, 4], [5, 11, 15, 15, 11, 5], [6, 16, 26, 30, 26, 16, 6], [7, 22, 42, 56, 56, 42, 22, 7], [8, 29, 64, 98, 112, 98, 64, 29, 8], [9, 37, 93, 162, 210, 210, 162, 93, 37, 9]]\n"
     ]
    }
   ],
   "source": [
    "# Pascal triangle\n",
    "n = 10\n",
    "p = []\n",
    "\n",
    "for i in range(n):\n",
    "    row = [i]*(i+1)\n",
    "    for j in range(i+1):\n",
    "        if j != 0 and j != i:\n",
    "            row[j] = p[i-1][j-1] + p[i-1][j]\n",
    "    p.append(row)\n",
    "\n",
    "print(p)"
   ]
  },
  {
   "cell_type": "code",
   "execution_count": null,
   "metadata": {},
   "outputs": [
    {
     "name": "stdout",
     "output_type": "stream",
     "text": [
      "[0, 1, 4, 9, 16]\n"
     ]
    }
   ],
   "source": [
    "# list comprehension\n",
    "N = 5\n",
    "a = [x ** 2 for x in range(N)] # [x ** 2 for x in list() if x %2 == 0]\n",
    "print(a)"
   ]
  },
  {
   "cell_type": "code",
   "execution_count": null,
   "metadata": {},
   "outputs": [
    {
     "name": "stdout",
     "output_type": "stream",
     "text": [
      "[(0, 0), (0, 1), (0, 2), (0, 3), (1, 0), (1, 1), (1, 2), (1, 3), (2, 0), (2, 1), (2, 2), (2, 3)]\n"
     ]
    }
   ],
   "source": [
    "a = [(i, j) \n",
    "    for i in range(3) if i % 3 == 0\n",
    "    for j in range(4) if j % 2 == 0\n",
    "    ]\n",
    "print(a)"
   ]
  },
  {
   "cell_type": "code",
   "execution_count": null,
   "metadata": {},
   "outputs": [
    {
     "name": "stdout",
     "output_type": "stream",
     "text": [
      "[[0, 1, 2], [0, 1, 2], [0, 1, 2], [0, 1, 2]]\n"
     ]
    }
   ],
   "source": [
    "matrix = [[a for a in range(3)] for b in range(4)]\n",
    "print(matrix)"
   ]
  },
  {
   "cell_type": "code",
   "execution_count": null,
   "metadata": {},
   "outputs": [
    {
     "name": "stdout",
     "output_type": "stream",
     "text": [
      "[[1, 4, 9], [16, 25, 36], [49, 64, 81]]\n"
     ]
    }
   ],
   "source": [
    "# возведение в квадрат каждого элемента двумерного списка\n",
    "s =[[1,2,3], [4,5,6], [7,8,9]]\n",
    "s= [[x **2 for x in row] for row in s]\n",
    "print(s)"
   ]
  },
  {
   "cell_type": "code",
   "execution_count": null,
   "metadata": {},
   "outputs": [
    {
     "name": "stdout",
     "output_type": "stream",
     "text": [
      "[[1, 16, 49], [4, 25, 64], [9, 36, 81]]\n"
     ]
    }
   ],
   "source": [
    "# транспонирование матрицы\n",
    "s_tr = [[row[i] for row in s] for i in range(len(s[0]))]\n",
    "print(s_tr)"
   ]
  },
  {
   "cell_type": "code",
   "execution_count": null,
   "metadata": {},
   "outputs": [],
   "source": [
    "# DICT - mutable !!\n",
    "'''\n",
    "{key:value}\n",
    "dict(key: value)\n",
    "del dict[key]\n",
    "value in dict - checks if key in dict\n",
    "'''\n",
    "# DICTIONARY METHODS\n",
    "\n",
    "''' \n",
    "dict.fromkeys(list[, default value])\n",
    "dict.clear()\n",
    "dict2 = dict.copy()  or dict2 = dict(dict)\n",
    "dict.get('key', value_if_not_exist (optional)) - getting value by key\n",
    "dict.setdefault('key', value_if_not_exist (optional)) - -//- and adds optional key: value in dict\n",
    "dict.pop('key', value_if_not_exist (optional))\n",
    "dict.popitem()- delites random key\n",
    "dict.keys() returns list of keys\n",
    "dict.values()\n",
    "dict.items() returns tuple of key and value \n",
    "dict.update(dict2) - обновление словаря dict значениями словаря dict2\n",
    "dict3 = {**dict, **dict2} - объединение двух словарей OR dict | dict2 (python3.9 and newer)\n",
    "'''\n",
    "\n"
   ]
  },
  {
   "cell_type": "code",
   "execution_count": null,
   "metadata": {},
   "outputs": [],
   "source": [
    "# TUPLES -immutable collection of ordered information\n",
    "a = 1, 2 \n",
    "a = (1, 2)\n",
    "a = (1,)\n",
    "a, b = (1, 2) # unpack tuple in variables\n",
    "b = a[:] # в отличие от списка НЕ создается копия, b ссылается на тот же кортеж!!!\n",
    "'''\n",
    "кортеж может использоваться в качетсве ключа в словаре, поскольку является неизменяемым типом\n",
    "кортеж занимает значительно меньше места на диске, чем аналогичный по содержанию список\n",
    "tuple.__sizeof__() -sizeof-function to check space amount of object\n",
    "'''\n",
    "\n",
    "a= a + (1,) # merging of tuples\n",
    "\n",
    "#  можно изменять изменяемые типы данных внутри (списки) кортежа\n",
    "'''\n",
    "Tuple Methods\n",
    "tuple.count(value)\n",
    "tuple.index(value[, start[, stop]])\n",
    "'''\n"
   ]
  },
  {
   "cell_type": "code",
   "execution_count": null,
   "metadata": {},
   "outputs": [],
   "source": [
    "# SET множества\n",
    "a = set()\n",
    "# or \n",
    "a = {1, 2, 3, 'zoom'} # all values are unique and immutable\n",
    "a.add('value')\n",
    "a.update(['a', 'b', (1,2)])\n",
    "a.discard('value')  # delites value without errors\n",
    "a.remove('value') # delites value with errors\n",
    "a.pop()\n",
    "a.clear()\n",
    "\n",
    "res = setA & setB # пересечение множеств setA setB\n",
    "res = setA.intersection(setB)\n",
    "setA.intersection_update(setB) # перечечение множест с сохранением результата во множестве setA\n",
    "\n",
    "res = setA | setB # union\n",
    "setA.union(setB)\n",
    "setA |= setB # union множест с сохранением результата во множестве setA\n",
    "\n",
    "setA - setB # вычитание множеств\n",
    "\n",
    "setA ^ setB # симметричная разность, остаются только несовпадающие значения\n",
    "\n",
    "# сравнение множеств a < b"
   ]
  },
  {
   "cell_type": "code",
   "execution_count": null,
   "metadata": {},
   "outputs": [],
   "source": [
    "# генератор множеств и словарей\n",
    "a = {x ** 2 for x in range(N)} # set\n",
    "b = {x: y ** 2 for x in range(N)} # dict"
   ]
  },
  {
   "cell_type": "code",
   "execution_count": null,
   "metadata": {},
   "outputs": [],
   "source": [
    "# FUNCTIONS\n",
    "'''\n",
    "print - link to the function\n",
    "print()  - call the functions\n",
    "\n",
    "custom function:\n",
    "def<function_name>([list of parametres]):\n",
    "    operator1\n",
    "    operator2\n",
    "    ...\n",
    "\n",
    "If function declares parametres, we have to pass argument while function calls\n",
    "агрумент - термин для параметра в вызываемой функции\n",
    "'''"
   ]
  },
  {
   "cell_type": "code",
   "execution_count": 16,
   "metadata": {},
   "outputs": [
    {
     "name": "stdout",
     "output_type": "stream",
     "text": [
      "\n",
      "    Hello John,\n",
      "    I'm a function \"send_mail\"\n",
      "    \n"
     ]
    }
   ],
   "source": [
    "def send_mail(from_name):\n",
    "    text=f'''\n",
    "    Hello {from_name},\n",
    "    I\\'m a function \"send_mail\"\n",
    "    '''\n",
    "    print(text)\n",
    "\n",
    "send_mail('John')   "
   ]
  },
  {
   "cell_type": "code",
   "execution_count": 20,
   "metadata": {},
   "outputs": [
    {
     "name": "stdout",
     "output_type": "stream",
     "text": [
      "Help on function get_nod in module __main__:\n",
      "\n",
      "get_nod(a, b)\n",
      "    Вычисляется НОД для натуральных чисел a и b\n",
      "        по алгоритму Евклида\n",
      "    :param a: первое натуральное число\n",
      "    :param b: второе натуральное число\n",
      "    :return: НОД\n",
      "\n",
      "2\n",
      "test #1 - passed\n",
      "test #2 - passed\n",
      "test #3 - failed\n"
     ]
    }
   ],
   "source": [
    "#  slowly Euclidean algorithm\n",
    "\n",
    "def get_nod(a, b):\n",
    "    ''' Вычисляется НОД для натуральных чисел a и b\n",
    "        по алгоритму Евклида\n",
    "    :param a: первое натуральное число\n",
    "    :param b: второе натуральное число\n",
    "    :return: НОД\n",
    "    '''\n",
    "    while a !=b:\n",
    "        if a > b:\n",
    "            a -= b\n",
    "        else:\n",
    "            b -= a\n",
    "\n",
    "    return a\n",
    "\n",
    "\n",
    "help(get_nod)\n",
    "res = get_nod(18, 244)\n",
    "print(res)\n",
    "\n",
    "\n",
    "def test_nod(func):\n",
    "    import time \n",
    "\n",
    "    # --- test # 1 ----\n",
    "    a = 28\n",
    "    b = 35\n",
    "    res = func(a, b)\n",
    "    if res == 7:\n",
    "        print('test #1 - passed')\n",
    "    else:\n",
    "        print('test #1 - failed')\n",
    "\n",
    "    # --- test # 2 ----\n",
    "    a = 100\n",
    "    b = 1\n",
    "    res = func(a, b)\n",
    "    if res == 1:\n",
    "        print('test #2 - passed')\n",
    "    else:\n",
    "        print('test #2 - failed')\n",
    "    \n",
    "\n",
    "    # --- test # 3 ----\n",
    "    a = 2\n",
    "    b = 100000000\n",
    "    st = time.time()\n",
    "    res = func(a, b)\n",
    "    et = time.time()\n",
    "    dt = et - st\n",
    "    if res == 2 and dt < 0.5:\n",
    "        print('test #3 - passed')\n",
    "    else:\n",
    "        print('test #3 - failed')\n",
    "\n",
    "\n",
    "test_nod(get_nod)"
   ]
  },
  {
   "cell_type": "code",
   "execution_count": 21,
   "metadata": {},
   "outputs": [
    {
     "name": "stdout",
     "output_type": "stream",
     "text": [
      "Help on function get_nod in module __main__:\n",
      "\n",
      "get_nod(a, b)\n",
      "    Вычисляется НОД для натуральных чисел a и b\n",
      "        по быстрому алгоритму Евклида\n",
      "    :param a: первое натуральное число\n",
      "    :param b: второе натуральное число\n",
      "    :return: НОД\n",
      "\n",
      "2\n",
      "test #1 - passed\n",
      "test #2 - passed\n",
      "test #3 - passed\n"
     ]
    }
   ],
   "source": [
    "#  fast Euclidean algorithm\n",
    "\n",
    "def get_nod(a, b):\n",
    "    ''' Вычисляется НОД для натуральных чисел a и b\n",
    "        по быстрому алгоритму Евклида\n",
    "    :param a: первое натуральное число\n",
    "    :param b: второе натуральное число\n",
    "    :return: НОД\n",
    "    '''\n",
    "    if a < b:\n",
    "        a, b = b, a\n",
    "    while b != 0:\n",
    "        a, b = b, a % b\n",
    "\n",
    "    return a\n",
    "\n",
    "\n",
    "help(get_nod)\n",
    "res = get_nod(18, 244)\n",
    "print(res)\n",
    "\n",
    "\n",
    "def test_nod(func):\n",
    "    import time \n",
    "\n",
    "    # --- test # 1 ----\n",
    "    a = 28\n",
    "    b = 35\n",
    "    res = func(a, b)\n",
    "    if res == 7:\n",
    "        print('test #1 - passed')\n",
    "    else:\n",
    "        print('test #1 - failed')\n",
    "\n",
    "    # --- test # 2 ----\n",
    "    a = 100\n",
    "    b = 1\n",
    "    res = func(a, b)\n",
    "    if res == 1:\n",
    "        print('test #2 - passed')\n",
    "    else:\n",
    "        print('test #2 - failed')\n",
    "    \n",
    "\n",
    "    # --- test # 3 ----\n",
    "    a = 2\n",
    "    b = 100000000\n",
    "    st = time.time()\n",
    "    res = func(a, b)\n",
    "    et = time.time()\n",
    "    dt = et - st\n",
    "    if res == 2 and dt < 0.5:\n",
    "        print('test #3 - passed')\n",
    "    else:\n",
    "        print('test #3 - failed')\n",
    "\n",
    "\n",
    "test_nod(get_nod)"
   ]
  },
  {
   "cell_type": "code",
   "execution_count": 25,
   "metadata": {},
   "outputs": [
    {
     "name": "stdout",
     "output_type": "stream",
     "text": [
      "False\n"
     ]
    }
   ],
   "source": [
    "def cmp_str(s1, s2, reg=False, trim=True): # reg and trim called FORMAL parametres\n",
    "    ''' Compare two strings\n",
    "        по быстрому алгоритму Евклида\n",
    "    '''\n",
    "    if reg:\n",
    "        s1 = s1.lower() # if reg is true convert s to lowercase\n",
    "        s2 = s2.lower()\n",
    "    if trim:\n",
    "        s1 = s1.strip() # if trim is true strip spaces and new lines\n",
    "        s2 = s2.strip()\n",
    "    \n",
    "    return s1 == s2\n",
    "\n",
    "\n",
    "print(cmp_str('Python ', 'PYTHON', trim = False))"
   ]
  },
  {
   "cell_type": "code",
   "execution_count": 26,
   "metadata": {},
   "outputs": [
    {
     "name": "stdout",
     "output_type": "stream",
     "text": [
      "[1, 2]\n"
     ]
    }
   ],
   "source": [
    "def add_value(value, lst=None): \n",
    "    ''' если один из параметров изменяемый, чтобы он обнулялся в следующем вызове функции, \n",
    "        нужно установить значение по умолчанию None и в теле функции делать проверку.\n",
    "        Иначе в данном случае при каждом вызове функции список будет дополняться автоматически \n",
    "        (ссылка на объект не уничтожается)\n",
    "    '''\n",
    "    if lst is None:\n",
    "        lst = []\n",
    "    \n",
    "    lst.append(value)\n",
    "    return lst\n",
    "\n",
    "\n",
    "l = add_value(1)\n",
    "l = add_value(2, l)\n",
    "print(l)"
   ]
  },
  {
   "cell_type": "code",
   "execution_count": 27,
   "metadata": {},
   "outputs": [
    {
     "name": "stdout",
     "output_type": "stream",
     "text": [
      "D:\\home\\new_folder\\prject_1\\dockerfile.yml\n"
     ]
    }
   ],
   "source": [
    "# Функции с произвольным числом параметров *args и  **kwargs\n",
    "\n",
    "def os_path(*args): # упаковывает неименованные аргументы в словарь args\n",
    "    path = '\\\\'.join(args)\n",
    "    return  path\n",
    "\n",
    "\n",
    "p = os_path('D:\\\\home', \n",
    "            'new_folder', \n",
    "            'prject_1', \n",
    "            'dockerfile.yml')\n",
    "print(p)"
   ]
  },
  {
   "cell_type": "code",
   "execution_count": 5,
   "metadata": {},
   "outputs": [
    {
     "name": "stdout",
     "output_type": "stream",
     "text": [
      "D:/home/new_folder/prject_1/dockerfile.yml\n"
     ]
    }
   ],
   "source": [
    "def os_path(*args, sep='\\\\', **kwargs): # kwargs - упаковывает неопредленное число ИМЕНОВАННЫХ агрументов в словарь kwargs\n",
    "    if 'trim' in kwargs and kwargs['trim']: # если trim в kwargs и значение kwargs[trim] = True\n",
    "        args = [x.strip() for x in args]\n",
    "    path = sep.join(args)\n",
    "    return  path\n",
    "\n",
    "\n",
    "p = os_path('D:', 'home', \n",
    "            'new_folder ', \n",
    "            'prject_1', \n",
    "            ' dockerfile.yml',\n",
    "            sep='/', trim = True)\n",
    "print(p)"
   ]
  },
  {
   "cell_type": "code",
   "execution_count": null,
   "metadata": {},
   "outputs": [],
   "source": [
    "'''\n",
    "* - распаковка итерируемых объектов d = -5, 5; [*range(*d)] \n",
    "** - распаковка словаря как словаря {**dict, **dict2}\n",
    "'''"
   ]
  },
  {
   "cell_type": "code",
   "execution_count": null,
   "metadata": {},
   "outputs": [],
   "source": [
    "# RECURSIVE FUNCTIONS"
   ]
  },
  {
   "cell_type": "code",
   "execution_count": 6,
   "metadata": {},
   "outputs": [
    {
     "name": "stdout",
     "output_type": "stream",
     "text": [
      "362880\n"
     ]
    }
   ],
   "source": [
    "def fact(n) : # для такой задачи лучше цикл\n",
    "    if n <= 0:\n",
    "        return 1\n",
    "    else:\n",
    "        return n * fact(n-1)\n",
    "\n",
    "print(fact(9))"
   ]
  },
  {
   "cell_type": "code",
   "execution_count": 13,
   "metadata": {},
   "outputs": [
    {
     "name": "stdout",
     "output_type": "stream",
     "text": [
      " C:\n",
      "   Python39\n",
      "     python.exe  python.ini\n",
      "   Program Files\n",
      "     Java\n",
      "       Readme.txt  welcome.html  java.exe\n",
      "     Matlab\n",
      "       matlab.exe  matlab.bat  mcc.bat\n",
      "   Windows\n",
      "     System32\n",
      "       acledit.dll  aclui.dll  zipfldr.dll\n"
     ]
    }
   ],
   "source": [
    "# рекурсивные ф-ии используются для обхода каталогов файлов/иерархических данных\n",
    "\n",
    "F = {\n",
    "    'C:' : {\n",
    "        'Python39': ['python.exe', 'python.ini'],\n",
    "        'Program Files': {\n",
    "            'Java' : ['Readme.txt', 'welcome.html', 'java.exe'],\n",
    "            'Matlab' : ['matlab.exe', 'matlab.bat', 'mcc.bat']\n",
    "        },\n",
    "        'Windows' : {\n",
    "            'System32' : ['acledit.dll', 'aclui.dll', 'zipfldr.dll']\n",
    "        }\n",
    "    } \n",
    "}\n",
    "\n",
    "def get_files(path, depth=0):\n",
    "    for i in path:\n",
    "        print('  '*depth, i)\n",
    "        if type(path[i]) == dict:\n",
    "            get_files(path[i], depth+1)\n",
    "        else:\n",
    "            print('  '*(depth+1), '  '.join(path[i]))\n",
    "\n",
    "get_files(F)"
   ]
  },
  {
   "cell_type": "code",
   "execution_count": null,
   "metadata": {},
   "outputs": [],
   "source": []
  }
 ],
 "metadata": {
  "kernelspec": {
   "display_name": "Python 3.9.13 64-bit",
   "language": "python",
   "name": "python3"
  },
  "language_info": {
   "codemirror_mode": {
    "name": "ipython",
    "version": 3
   },
   "file_extension": ".py",
   "mimetype": "text/x-python",
   "name": "python",
   "nbconvert_exporter": "python",
   "pygments_lexer": "ipython3",
   "version": "3.9.13"
  },
  "orig_nbformat": 4,
  "vscode": {
   "interpreter": {
    "hash": "cf8834ea3aa993096f1639bba9c9edcf5bdc14c58689fb14f02e5da05b340ab9"
   }
  }
 },
 "nbformat": 4,
 "nbformat_minor": 2
}
